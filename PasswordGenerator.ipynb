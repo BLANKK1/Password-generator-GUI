{
 "cells": [
  {
   "cell_type": "code",
   "execution_count": 7,
   "id": "d41eb4df",
   "metadata": {},
   "outputs": [],
   "source": [
    "from tkinter import *\n",
    "from tkinter import messagebox\n",
    "import json"
   ]
  },
  {
   "cell_type": "code",
   "execution_count": 70,
   "id": "473510ad",
   "metadata": {},
   "outputs": [],
   "source": [
    "def search():\n",
    "    website_search = website_entry.get()\n",
    "    fd=open(\"data.json \",'r')\n",
    "    data = json.load(fd)\n",
    "    data_keys = data.keys()\n",
    "    for i in data_keys:\n",
    "        if i == website_search: \n",
    "            data_value = data.get(i)\n",
    "            messagebox.showinfo(title=\"Found\", message=f\"Email: {data_value['Email']}\\n Password: {data_value['Password']}\" )\n",
    "        else:\n",
    "            messagebox.showinfo(title=\"NotFound\", message=\"The website has not been registerd yet\")"
   ]
  },
  {
   "cell_type": "code",
   "execution_count": null,
   "id": "3d515888",
   "metadata": {},
   "outputs": [],
   "source": []
  },
  {
   "cell_type": "code",
   "execution_count": 67,
   "id": "74aa8652",
   "metadata": {},
   "outputs": [],
   "source": [
    "#--PASSWORD GENRATOR--\n",
    "def genrate_pass():\n",
    "    import random\n",
    "    passs=\"\"\n",
    "    lis=[\"a\",\"b\",\"c\",\"d\",\"e\",\"f\",\"g\",\"h\",\"i\",\"j\",\"k\",\"l\",\"m\",\"n\",\"o\",\"p\",\"q\",\"r\",\"s\",\"t\",\"u\",\"v\",\"w\",\"x\",\"y\",\"z\",\"A\",\"B\",\"C\",\"D\",\"E\",\"F\",\"G\",\"H\",\"I\",\"J\",\"K\",\"L\",\"M\",\"N\",\"O\",\"P\",\"Q\",\"R\",\"S\",\"T\",\"U\",\"V\",\"W\",\"X\",\"Y\",\"Z\",\"1\",\"2\",\"3\",\"4\",\"5\",\"6\",\"7\",\"8\",\"9\",\"0\",\"+\",\"*\",\"-\",\"_\",\"/\",\"|\",\"!\",\"@\",\"#\",\"$\",\"%\",\"^\",\"&\",\" \"]\n",
    "    letter_in_pass = random.randint(6,12)\n",
    "    for i in range(letter_in_pass):\n",
    "        rand_letter=random.choice(lis)\n",
    "        passs = passs + rand_letter\n",
    "    pass_entry.insert(0,passs)\n",
    "    print(\"Password genrated\")"
   ]
  },
  {
   "cell_type": "code",
   "execution_count": 68,
   "id": "481b872c",
   "metadata": {},
   "outputs": [],
   "source": [
    "#--SAVE PASSWORD--#\n",
    "def add_data():\n",
    "    password = pass_entry.get()\n",
    "    website = website_entry.get()\n",
    "    email = email_entry.get()\n",
    "    new_data = {website:{\"Email\": email, \"Password\": password}}\n",
    "    \n",
    "    if len(password) == 0 or len(email) == 0 or len(website) == 0:\n",
    "        messagebox.showinfo(text=\"oops\", message=\"Please make sure you haven't left any fields empty.\")\n",
    "    else:            \n",
    "        fd=open(\"data.json \",'w')\n",
    "        json.dump(new_data, fd, indent=4)\n",
    "        website_entry.delete(0,END)\n",
    "        pass_entry.delete(0,END)\n",
    "#         else:\n",
    "#             password_entry.delete(0,END)\n",
    "#             email_entry.delete(0,END)"
   ]
  },
  {
   "cell_type": "code",
   "execution_count": 71,
   "id": "a7285f5d",
   "metadata": {},
   "outputs": [],
   "source": [
    "#--UI SETUP--\n",
    "window = Tk()\n",
    "window.title(\"Password Manager\")\n",
    "window.config(padx=50, pady=40)\n",
    "\n",
    "canvas = Canvas(height=200, width=200)\n",
    "logo_img = PhotoImage(file=\"logo.png\")\n",
    "canvas.create_image(100, 100, image=logo_img)\n",
    "canvas.grid(row=0, column=1)\n",
    "\n",
    "\n",
    "website_label = Label(text=\"Website:\")\n",
    "website_label.grid(row=1, column=0)\n",
    "website_entry = Entry(width=22)\n",
    "website_entry.grid(row=1, column=1, columnspan=1)\n",
    "website_entry.focus()\n",
    "\n",
    "\n",
    "email_label = Label(text=\"Email/Username:\")\n",
    "email_label.grid(row=2, column=0)\n",
    "email_entry = Entry(width=40)\n",
    "email_entry.grid(row=2, column=1, columnspan=2)\n",
    "email_entry.insert(0,\"shrey200469@gmail.com\")\n",
    "\n",
    "\n",
    "pass_label = Label(text=\"Password:\")\n",
    "pass_label.grid(row=3, column=0)\n",
    "pass_entry = Entry(width=22)\n",
    "pass_entry.grid(row=3, column=1)\n",
    "\n",
    "\n",
    "Genrate_Btn = Button(text=\"Generate Password\",command=genrate_pass)\n",
    "Genrate_Btn.grid(row=3, column=2 )\n",
    "\n",
    "Add_Btn = Button(text=\"Add\", width=35, command=add_data)\n",
    "Add_Btn.grid(row=4, column=1, columnspan=2)\n",
    "\n",
    "search_Btn = Button(text=\"Search\", width=15, command=search)\n",
    "search_Btn.grid(row=1, column=2, columnspan=2)\n",
    "\n",
    "\n",
    "window.mainloop()"
   ]
  },
  {
   "cell_type": "code",
   "execution_count": null,
   "id": "88722e52",
   "metadata": {},
   "outputs": [],
   "source": []
  },
  {
   "cell_type": "code",
   "execution_count": null,
   "id": "cb204bee",
   "metadata": {},
   "outputs": [],
   "source": []
  }
 ],
 "metadata": {
  "kernelspec": {
   "display_name": "Python 3 (ipykernel)",
   "language": "python",
   "name": "python3"
  },
  "language_info": {
   "codemirror_mode": {
    "name": "ipython",
    "version": 3
   },
   "file_extension": ".py",
   "mimetype": "text/x-python",
   "name": "python",
   "nbconvert_exporter": "python",
   "pygments_lexer": "ipython3",
   "version": "3.9.12"
  }
 },
 "nbformat": 4,
 "nbformat_minor": 5
}
